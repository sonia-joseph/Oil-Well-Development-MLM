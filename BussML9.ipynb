{
 "cells": [
  {
   "cell_type": "markdown",
   "metadata": {},
   "source": [
    "# Machine Learning Model: Which region is ideal for the development of new oil wells?\n",
    "\n",
    "As an analyst for the OilyGiant mining company, we need to identify the region that is ideal for a new well.\n",
    "\n",
    "In this project we will attempt to train models to predict the volume of reserves in the new wells identified in each region. We have data for existing oil wells in these regions.\n",
    "\n",
    "Only linear regression is suitable for model training since the remaining models are not sufficiently predictable.\n",
    "\n",
    "When exploring the region, a study of 500 points is carried with picking the best 200 points for the profit calculation. The budget for development of 200 oil wells is 100 USD million. One barrel of raw materials brings 4.5 USD of revenue The revenue from one unit of product is 4,500 dollars (volume of reserves is in thousand barrels). After the risk evaluation, only the regions with the risk of losses lower than 2.5% are to be retained. From the ones that fit the criteria, the region with the highest average profit will be selected. \n",
    "\n",
    "The project will proceed in three stages.\n",
    "\n",
    "1. We will process the data and perform some exploratory data analysis.\n",
    "\n",
    "2. We will split the data into training and validation and sets in a 3:1 ratio. We will then train linear regression models on the training sets for the three regions and identify the best model for each and calculate the RMSE values.\n",
    "\n",
    "3. We will calculate the volume of reserves sufficient for developing a new well without losses and compare this with the average volume of reserves in each region.\n",
    "\n",
    "4. We will pick the wells with highest values of predictions and calculate the profit for the obtained volume of reserves. We will then use the bootstrapping technique with a 1000 samples to find the profit distribution.\n",
    "\n",
    "This should allow us to identify a region for further development.\n"
   ]
  },
  {
   "cell_type": "code",
   "execution_count": 1,
   "metadata": {},
   "outputs": [],
   "source": [
    "#importing required libraries\n",
    "import pandas as pd\n",
    "import numpy as np\n",
    "from scipy import stats as st\n",
    "from scipy.stats import randint\n",
    "import seaborn as sns\n",
    "from matplotlib import pyplot as plt\n",
    "import plotly as py\n",
    "import plotly.express as px\n",
    "from sklearn.linear_model import LinearRegression\n",
    "from sklearn.metrics import mean_squared_error\n",
    "from sklearn.model_selection import train_test_split\n",
    "from sklearn.model_selection import RandomizedSearchCV\n",
    "from sklearn.model_selection import GridSearchCV\n",
    "from sklearn.experimental import enable_iterative_imputer\n",
    "from sklearn.impute import IterativeImputer\n",
    "from sklearn.ensemble import ExtraTreesRegressor\n",
    "from sklearn.preprocessing import StandardScaler\n",
    "from sklearn.utils import shuffle\n",
    "from sklearn.metrics import r2_score\n",
    "from sklearn.metrics import mean_absolute_error\n",
    "from numpy.random import RandomState"
   ]
  },
  {
   "cell_type": "code",
   "execution_count": 24,
   "metadata": {},
   "outputs": [],
   "source": [
    "#declaring global variables\n",
    "well_num = 200 #number of wells to develop for profit calculations\n",
    "dev_cost = 100000000 #cost of developing 200 wells in USD\n",
    "rev_per_thou = 4500 #revenue per 1000 barrels which is are the units in for the target value (product)\n",
    "mill = 1000000"
   ]
  },
  {
   "cell_type": "code",
   "execution_count": 3,
   "metadata": {},
   "outputs": [
    {
     "name": "stdout",
     "output_type": "stream",
     "text": [
      "<class 'pandas.core.frame.DataFrame'>\n",
      "RangeIndex: 100000 entries, 0 to 99999\n",
      "Data columns (total 5 columns):\n",
      " #   Column   Non-Null Count   Dtype  \n",
      "---  ------   --------------   -----  \n",
      " 0   id       100000 non-null  object \n",
      " 1   f0       100000 non-null  float64\n",
      " 2   f1       100000 non-null  float64\n",
      " 3   f2       100000 non-null  float64\n",
      " 4   product  100000 non-null  float64\n",
      "dtypes: float64(4), object(1)\n",
      "memory usage: 3.8+ MB\n"
     ]
    },
    {
     "data": {
      "text/html": [
       "<div>\n",
       "<style scoped>\n",
       "    .dataframe tbody tr th:only-of-type {\n",
       "        vertical-align: middle;\n",
       "    }\n",
       "\n",
       "    .dataframe tbody tr th {\n",
       "        vertical-align: top;\n",
       "    }\n",
       "\n",
       "    .dataframe thead th {\n",
       "        text-align: right;\n",
       "    }\n",
       "</style>\n",
       "<table border=\"1\" class=\"dataframe\">\n",
       "  <thead>\n",
       "    <tr style=\"text-align: right;\">\n",
       "      <th></th>\n",
       "      <th>id</th>\n",
       "      <th>f0</th>\n",
       "      <th>f1</th>\n",
       "      <th>f2</th>\n",
       "      <th>product</th>\n",
       "    </tr>\n",
       "  </thead>\n",
       "  <tbody>\n",
       "    <tr>\n",
       "      <th>0</th>\n",
       "      <td>txEyH</td>\n",
       "      <td>0.705745</td>\n",
       "      <td>-0.497823</td>\n",
       "      <td>1.221170</td>\n",
       "      <td>105.280062</td>\n",
       "    </tr>\n",
       "    <tr>\n",
       "      <th>1</th>\n",
       "      <td>2acmU</td>\n",
       "      <td>1.334711</td>\n",
       "      <td>-0.340164</td>\n",
       "      <td>4.365080</td>\n",
       "      <td>73.037750</td>\n",
       "    </tr>\n",
       "    <tr>\n",
       "      <th>2</th>\n",
       "      <td>409Wp</td>\n",
       "      <td>1.022732</td>\n",
       "      <td>0.151990</td>\n",
       "      <td>1.419926</td>\n",
       "      <td>85.265647</td>\n",
       "    </tr>\n",
       "    <tr>\n",
       "      <th>3</th>\n",
       "      <td>iJLyR</td>\n",
       "      <td>-0.032172</td>\n",
       "      <td>0.139033</td>\n",
       "      <td>2.978566</td>\n",
       "      <td>168.620776</td>\n",
       "    </tr>\n",
       "    <tr>\n",
       "      <th>4</th>\n",
       "      <td>Xdl7t</td>\n",
       "      <td>1.988431</td>\n",
       "      <td>0.155413</td>\n",
       "      <td>4.751769</td>\n",
       "      <td>154.036647</td>\n",
       "    </tr>\n",
       "  </tbody>\n",
       "</table>\n",
       "</div>"
      ],
      "text/plain": [
       "      id        f0        f1        f2     product\n",
       "0  txEyH  0.705745 -0.497823  1.221170  105.280062\n",
       "1  2acmU  1.334711 -0.340164  4.365080   73.037750\n",
       "2  409Wp  1.022732  0.151990  1.419926   85.265647\n",
       "3  iJLyR -0.032172  0.139033  2.978566  168.620776\n",
       "4  Xdl7t  1.988431  0.155413  4.751769  154.036647"
      ]
     },
     "metadata": {},
     "output_type": "display_data"
    },
    {
     "name": "stdout",
     "output_type": "stream",
     "text": [
      "<class 'pandas.core.frame.DataFrame'>\n",
      "RangeIndex: 100000 entries, 0 to 99999\n",
      "Data columns (total 5 columns):\n",
      " #   Column   Non-Null Count   Dtype  \n",
      "---  ------   --------------   -----  \n",
      " 0   id       100000 non-null  object \n",
      " 1   f0       100000 non-null  float64\n",
      " 2   f1       100000 non-null  float64\n",
      " 3   f2       100000 non-null  float64\n",
      " 4   product  100000 non-null  float64\n",
      "dtypes: float64(4), object(1)\n",
      "memory usage: 3.8+ MB\n"
     ]
    },
    {
     "data": {
      "text/html": [
       "<div>\n",
       "<style scoped>\n",
       "    .dataframe tbody tr th:only-of-type {\n",
       "        vertical-align: middle;\n",
       "    }\n",
       "\n",
       "    .dataframe tbody tr th {\n",
       "        vertical-align: top;\n",
       "    }\n",
       "\n",
       "    .dataframe thead th {\n",
       "        text-align: right;\n",
       "    }\n",
       "</style>\n",
       "<table border=\"1\" class=\"dataframe\">\n",
       "  <thead>\n",
       "    <tr style=\"text-align: right;\">\n",
       "      <th></th>\n",
       "      <th>id</th>\n",
       "      <th>f0</th>\n",
       "      <th>f1</th>\n",
       "      <th>f2</th>\n",
       "      <th>product</th>\n",
       "    </tr>\n",
       "  </thead>\n",
       "  <tbody>\n",
       "    <tr>\n",
       "      <th>0</th>\n",
       "      <td>kBEdx</td>\n",
       "      <td>-15.001348</td>\n",
       "      <td>-8.276000</td>\n",
       "      <td>-0.005876</td>\n",
       "      <td>3.179103</td>\n",
       "    </tr>\n",
       "    <tr>\n",
       "      <th>1</th>\n",
       "      <td>62mP7</td>\n",
       "      <td>14.272088</td>\n",
       "      <td>-3.475083</td>\n",
       "      <td>0.999183</td>\n",
       "      <td>26.953261</td>\n",
       "    </tr>\n",
       "    <tr>\n",
       "      <th>2</th>\n",
       "      <td>vyE1P</td>\n",
       "      <td>6.263187</td>\n",
       "      <td>-5.948386</td>\n",
       "      <td>5.001160</td>\n",
       "      <td>134.766305</td>\n",
       "    </tr>\n",
       "    <tr>\n",
       "      <th>3</th>\n",
       "      <td>KcrkZ</td>\n",
       "      <td>-13.081196</td>\n",
       "      <td>-11.506057</td>\n",
       "      <td>4.999415</td>\n",
       "      <td>137.945408</td>\n",
       "    </tr>\n",
       "    <tr>\n",
       "      <th>4</th>\n",
       "      <td>AHL4O</td>\n",
       "      <td>12.702195</td>\n",
       "      <td>-8.147433</td>\n",
       "      <td>5.004363</td>\n",
       "      <td>134.766305</td>\n",
       "    </tr>\n",
       "  </tbody>\n",
       "</table>\n",
       "</div>"
      ],
      "text/plain": [
       "      id         f0         f1        f2     product\n",
       "0  kBEdx -15.001348  -8.276000 -0.005876    3.179103\n",
       "1  62mP7  14.272088  -3.475083  0.999183   26.953261\n",
       "2  vyE1P   6.263187  -5.948386  5.001160  134.766305\n",
       "3  KcrkZ -13.081196 -11.506057  4.999415  137.945408\n",
       "4  AHL4O  12.702195  -8.147433  5.004363  134.766305"
      ]
     },
     "metadata": {},
     "output_type": "display_data"
    },
    {
     "name": "stdout",
     "output_type": "stream",
     "text": [
      "<class 'pandas.core.frame.DataFrame'>\n",
      "RangeIndex: 100000 entries, 0 to 99999\n",
      "Data columns (total 5 columns):\n",
      " #   Column   Non-Null Count   Dtype  \n",
      "---  ------   --------------   -----  \n",
      " 0   id       100000 non-null  object \n",
      " 1   f0       100000 non-null  float64\n",
      " 2   f1       100000 non-null  float64\n",
      " 3   f2       100000 non-null  float64\n",
      " 4   product  100000 non-null  float64\n",
      "dtypes: float64(4), object(1)\n",
      "memory usage: 3.8+ MB\n"
     ]
    },
    {
     "data": {
      "text/html": [
       "<div>\n",
       "<style scoped>\n",
       "    .dataframe tbody tr th:only-of-type {\n",
       "        vertical-align: middle;\n",
       "    }\n",
       "\n",
       "    .dataframe tbody tr th {\n",
       "        vertical-align: top;\n",
       "    }\n",
       "\n",
       "    .dataframe thead th {\n",
       "        text-align: right;\n",
       "    }\n",
       "</style>\n",
       "<table border=\"1\" class=\"dataframe\">\n",
       "  <thead>\n",
       "    <tr style=\"text-align: right;\">\n",
       "      <th></th>\n",
       "      <th>id</th>\n",
       "      <th>f0</th>\n",
       "      <th>f1</th>\n",
       "      <th>f2</th>\n",
       "      <th>product</th>\n",
       "    </tr>\n",
       "  </thead>\n",
       "  <tbody>\n",
       "    <tr>\n",
       "      <th>0</th>\n",
       "      <td>fwXo0</td>\n",
       "      <td>-1.146987</td>\n",
       "      <td>0.963328</td>\n",
       "      <td>-0.828965</td>\n",
       "      <td>27.758673</td>\n",
       "    </tr>\n",
       "    <tr>\n",
       "      <th>1</th>\n",
       "      <td>WJtFt</td>\n",
       "      <td>0.262778</td>\n",
       "      <td>0.269839</td>\n",
       "      <td>-2.530187</td>\n",
       "      <td>56.069697</td>\n",
       "    </tr>\n",
       "    <tr>\n",
       "      <th>2</th>\n",
       "      <td>ovLUW</td>\n",
       "      <td>0.194587</td>\n",
       "      <td>0.289035</td>\n",
       "      <td>-5.586433</td>\n",
       "      <td>62.871910</td>\n",
       "    </tr>\n",
       "    <tr>\n",
       "      <th>3</th>\n",
       "      <td>q6cA6</td>\n",
       "      <td>2.236060</td>\n",
       "      <td>-0.553760</td>\n",
       "      <td>0.930038</td>\n",
       "      <td>114.572842</td>\n",
       "    </tr>\n",
       "    <tr>\n",
       "      <th>4</th>\n",
       "      <td>WPMUX</td>\n",
       "      <td>-0.515993</td>\n",
       "      <td>1.716266</td>\n",
       "      <td>5.899011</td>\n",
       "      <td>149.600746</td>\n",
       "    </tr>\n",
       "  </tbody>\n",
       "</table>\n",
       "</div>"
      ],
      "text/plain": [
       "      id        f0        f1        f2     product\n",
       "0  fwXo0 -1.146987  0.963328 -0.828965   27.758673\n",
       "1  WJtFt  0.262778  0.269839 -2.530187   56.069697\n",
       "2  ovLUW  0.194587  0.289035 -5.586433   62.871910\n",
       "3  q6cA6  2.236060 -0.553760  0.930038  114.572842\n",
       "4  WPMUX -0.515993  1.716266  5.899011  149.600746"
      ]
     },
     "metadata": {},
     "output_type": "display_data"
    }
   ],
   "source": [
    "#loading the data and examining it\n",
    "geo_data_0 = pd.read_csv('/datasets/geo_data_0.csv')\n",
    "geo_data_1 = pd.read_csv('/datasets/geo_data_1.csv')\n",
    "geo_data_2 = pd.read_csv('/datasets/geo_data_2.csv')\n",
    "geo_data_0.info()\n",
    "display(geo_data_0.head())\n",
    "geo_data_1.info()\n",
    "display(geo_data_1.head())\n",
    "geo_data_2.info()\n",
    "display(geo_data_2.head())"
   ]
  },
  {
   "cell_type": "code",
   "execution_count": 4,
   "metadata": {},
   "outputs": [
    {
     "name": "stdout",
     "output_type": "stream",
     "text": [
      "0\n",
      "10\n",
      "          id        f0        f1         f2     product\n",
      "931    HZww2  0.755284  0.368511   1.863211   30.681774\n",
      "1364   bxg6G  0.411645  0.856830  -3.653440   73.604260\n",
      "1949   QcMuo  0.506563 -0.323775  -2.215583   75.496502\n",
      "3389   A5aEY -0.039949  0.156872   0.209861   89.249364\n",
      "7530   HZww2  1.061194 -0.373969  10.430210  158.828695\n",
      "16633  fiKDv  0.157341  1.028359   5.585586   95.817889\n",
      "21426  Tdehs  0.829407  0.298807  -0.049563   96.035308\n",
      "41724  bxg6G -0.823752  0.546319   3.630479   93.007798\n",
      "42529  AGS9W  1.454747 -0.479651   0.683380  126.370504\n",
      "51970  A5aEY -0.180335  0.935548  -2.094773   33.020205\n",
      "60140  TtcGQ  0.569276 -0.104876   6.440215   85.350186\n",
      "63593  QcMuo  0.635635 -0.473422   0.862670   64.578675\n",
      "64022  74z30  0.741456  0.459229   5.153109  140.771492\n",
      "66136  74z30  1.084962 -0.312358   6.990771  127.643327\n",
      "69163  AGS9W -0.933795  0.116194  -3.655896   19.230453\n",
      "75715  Tdehs  0.112079  0.430296   3.218993   60.964018\n",
      "89582  bsk9y  0.398908 -0.400253  10.122376  163.433078\n",
      "90815  fiKDv  0.049883  0.841313   6.394613  137.346586\n",
      "92341  TtcGQ  0.110711  1.022689   0.911381  101.318008\n",
      "97785  bsk9y  0.378429  0.005837   0.160827  160.637302\n",
      "0\n",
      "4\n",
      "          id         f0         f1        f2     product\n",
      "1305   LHZR0  11.170835  -1.945066  3.002872   80.859783\n",
      "2721   bfPNe  -9.494442  -5.463692  4.006042  110.992147\n",
      "5849   5ltQ6  -3.435401 -12.296043  1.999796   57.085625\n",
      "41906  LHZR0  -8.989672  -4.286607  2.009139   57.085625\n",
      "47591  wt4Uk  -9.091098  -8.109279 -0.002314    3.179103\n",
      "82178  bfPNe  -6.202799  -4.820045  2.995107   84.038886\n",
      "82873  wt4Uk  10.259972  -9.376355  4.994297  134.766305\n",
      "84461  5ltQ6  18.213839   2.191999  3.993869  107.813044\n",
      "0\n",
      "4\n",
      "          id        f0        f1        f2     product\n",
      "11449  VF7Jo  2.122656 -0.858275  5.746001  181.716817\n",
      "28039  xCHr8  1.633027  0.368135 -2.378367    6.120525\n",
      "43233  xCHr8 -0.847066  2.101796  5.597130  184.388641\n",
      "44378  Vcm5J -1.229484 -2.439204  1.222909  137.968290\n",
      "45404  KUPhW  0.231846 -1.698941  4.990775   11.716299\n",
      "49564  VF7Jo -0.883115  0.560537  0.723601  136.233420\n",
      "55967  KUPhW  1.211150  3.176408  5.543540  132.831802\n",
      "95090  Vcm5J  2.587702  1.986875  2.482245   92.327572\n"
     ]
    }
   ],
   "source": [
    "#duplications detection\n",
    "print(geo_data_0.duplicated().sum())\n",
    "print(geo_data_0['id'].duplicated().sum())\n",
    "print(geo_data_0.loc[geo_data_0['id'].duplicated(keep=False)])\n",
    "print(geo_data_1.duplicated().sum())\n",
    "print(geo_data_1['id'].duplicated().sum())\n",
    "print(geo_data_1.loc[geo_data_1['id'].duplicated(keep=False)])\n",
    "print(geo_data_2.duplicated().sum())\n",
    "print(geo_data_2['id'].duplicated().sum())\n",
    "print(geo_data_2.loc[geo_data_2['id'].duplicated(keep=False)])"
   ]
  },
  {
   "cell_type": "markdown",
   "metadata": {},
   "source": [
    "There are no null values in the 100000 entries in each dataset for the individual regions. And the data is classified correctly.\n",
    "Duplicates were identified for well id in each data set but on careful examination, we observe that the features and volumes are unique and this likely represent adjacent wells or sub-wells. Since the features are used to develop models, we should treat them as independent wells."
   ]
  },
  {
   "cell_type": "markdown",
   "metadata": {},
   "source": [
    "## Exploratory Data Analysis"
   ]
  },
  {
   "cell_type": "markdown",
   "metadata": {},
   "source": [
    "Let us examine the distribution of volume of reserves in each region. With the limited data descriptions available, further analysis is beyond the scope of the available data."
   ]
  },
  {
   "cell_type": "code",
   "execution_count": 5,
   "metadata": {},
   "outputs": [
    {
     "data": {
      "image/png": "[encoded data removed]",
      "text/plain": [
       "<Figure size 1000x600 with 1 Axes>"
      ]
     },
     "metadata": {},
     "output_type": "display_data"
    },
    {
     "data": {
      "image/png": "[encoded data removed]",
      "text/plain": [
       "<Figure size 1000x600 with 1 Axes>"
      ]
     },
     "metadata": {},
     "output_type": "display_data"
    },
    {
     "data": {
      "image/png": "[encoded data removed]",
      "text/plain": [
       "<Figure size 1000x600 with 1 Axes>"
      ]
     },
     "metadata": {},
     "output_type": "display_data"
    }
   ],
   "source": [
    "#plotting distribution of product in each region\n",
    "geo_data_0['product'].plot(kind='hist', figsize=(10,6),bins=15,title='Volume Distribution in Region 1')\n",
    "plt.xlabel('Volume of reserves in the oil well in 1000s of barrels')\n",
    "plt.ylabel('frequency')\n",
    "plt.show()\n",
    "geo_data_1['product'].plot(kind='hist', figsize=(10,6),bins=15,title='Volume Distribution in Region 2')\n",
    "plt.xlabel('Volume of reserves in the oil well in 1000s of barrels')\n",
    "plt.ylabel('frequency')\n",
    "plt.show()\n",
    "geo_data_2['product'].plot(kind='hist', figsize=(10,6),bins=15,title='Volume Distribution in Region 3')\n",
    "plt.xlabel('Volume of reserves in the oil well in 1000s of barrels')\n",
    "plt.ylabel('frequency')\n",
    "plt.show()"
   ]
  },
  {
   "cell_type": "markdown",
   "metadata": {},
   "source": [
    "Regions 1 and three show very similiar distributions of reserves in the wells, close to a gaussian distribution with the wells almost symetrically distributed around the mean. Region 2, however, shows an almost inverse distribution with a lot of wells having very low reserves or very high reserves and the remaining reserves evenly distributed across the range in between the extremes."
   ]
  },
  {
   "cell_type": "markdown",
   "metadata": {},
   "source": [
    "# Training the Models"
   ]
  },
  {
   "cell_type": "markdown",
   "metadata": {},
   "source": [
    "We do not need to encode the features columns, since they are already floats and appear to be on the same scale. We will proceed by dropping the non contributing columns in each data set and developing the model. Also considering the distribution of the reserves we saw earlier, it does not seem like a weight adjustment is needed here for the target values when training the model. In all three regions the well reserve distribution is fairly continuous and symmetric around the mean, whether the shape of the distribution is peaking at the mean or not."
   ]
  },
  {
   "cell_type": "code",
   "execution_count": 28,
   "metadata": {},
   "outputs": [
    {
     "name": "stdout",
     "output_type": "stream",
     "text": [
      "RMSE of the linear regression model developed for region 0 is 37.58\n",
      "R2 for region 0 = 0.279943\n",
      "Adjusted R-squared for region 0: 0.279857\n",
      "Mean Absolute Error (MAE) for region 0: 30.92\n",
      "Average reserve in region 0 is:92.50 (1000 barrels)\n",
      "Median reserve in region 0 is:91.85 (1000 barrels)\n",
      "RMSE of the linear regression model developed for region 1 is 0.89\n",
      "R2 for region 1 = 0.999623\n",
      "Adjusted R-squared for region 1: 0.999623\n",
      "Mean Absolute Error (MAE) for region 1: 0.72\n",
      "Average reserve in region 1 is:68.83 (1000 barrels)\n",
      "Median reserve in region 1 is:57.09 (1000 barrels)\n",
      "RMSE of the linear regression model developed for region 2 is 40.03\n",
      "R2 for region 2 = 0.205248\n",
      "Adjusted R-squared for region 2: 0.205152\n",
      "Mean Absolute Error (MAE) for region 2: 32.79\n",
      "Average reserve in region 2 is:95.00 (1000 barrels)\n",
      "Median reserve in region 2 is:94.93 (1000 barrels)\n"
     ]
    }
   ],
   "source": [
    "#dropping non-contributing columns and target to get features set\n",
    "geo_data_0features = geo_data_0.drop(columns=['id','product'],axis=1)\n",
    "geo_data_1features = geo_data_1.drop(columns=['id','product'],axis=1)\n",
    "geo_data_2features = geo_data_2.drop(columns=['id','product'],axis=1)\n",
    "#defining target for each set\n",
    "geo_data_0target = geo_data_0['product']\n",
    "geo_data_1target = geo_data_1['product']\n",
    "geo_data_2target = geo_data_2['product']\n",
    "#function to train linear regression model for each region and calculate parameters\n",
    "def regression_metrics(features,target,name):\n",
    "    features_train,features_valid, target_train, target_valid = train_test_split(features, target, test_size=0.25, random_state=12345) #splitting the dat into training and validation sets in the 75:25 ratio specified\n",
    "    model = LinearRegression() #specifiying the model\n",
    "    model.fit(features_train,target_train)#training on the training set\n",
    "    pred = model.predict(features_valid) #predicting with the validation set\n",
    "    rmse = (mean_squared_error(target_valid, pred))**0.5 #calculating rmse\n",
    "    r2 = r2_score(target_valid, pred) #calculating r2\n",
    "    n = len(target_valid) #declaring new variable for length of validation set\n",
    "    p = 3  #declaring new variable for number of features\n",
    "    adj_r2 = 1 - ((1 - r2_score(target_valid, pred)) * (n - 1) / (n - p - 1)) #calculating adjusted r2\n",
    "    mae = mean_absolute_error(target_valid, pred) #calculating mean absolute error\n",
    "    average_reserve = target.mean() #calculating the average actual reserves\n",
    "    median_reserve = target.median() #calculating the median actual reserves\n",
    "    print(f\"RMSE of the linear regression model developed for {name} is {rmse:0.2f}\")\n",
    "    print(f\"R2 for {name} = {r2:0.6f}\")\n",
    "    print(f\"Adjusted R-squared for {name}: {adj_r2:0.6f}\")\n",
    "    print(f\"Mean Absolute Error (MAE) for {name}: {mae:0.2f}\")\n",
    "    print(f\"Average reserve in {name} is:{average_reserve:0.2f} (1000 barrels)\")\n",
    "    print(f\"Median reserve in {name} is:{median_reserve:0.2f} (1000 barrels)\")\n",
    "    pred_s = pd.Series(pred, index=target_valid.index)\n",
    "    return pred_s,features_train,features_valid, target_train, target_valid\n",
    "#calling the function to train the model for each region\n",
    "pred0, df0features_train, df0features_valid, df0target_train, df0target_valid = regression_metrics(geo_data_0features,geo_data_0target,\"region 0\")\n",
    "pred1, df1features_train, df1features_valid, df1target_train, df1target_valid = regression_metrics(geo_data_1features,geo_data_1target,\"region 1\")\n",
    "pred2, df2features_train, df2features_valid, df2target_train, df2target_valid = regression_metrics(geo_data_2features,geo_data_2target,\"region 2\")"
   ]
  },
  {
   "cell_type": "markdown",
   "metadata": {},
   "source": [
    "The most predictive model appears to be for region 2. It has the lowest value for rmse, the r2 is close to 1 which means the prediction is close to perfect and mean absolute error is also the lowest (this does not take into account the direction of the error and is less sensitive to outliers compared to rmse and mse). Since this is a simple linea regression, I was interested in determining if one of the features was superfluous leading to the low quality of the models for regions 0 and 2 but from the adjusted R-squared values, that does not seem to be the case. They are identical to the R-squared value without adjustment. It is likely the dependence is not a simple linear regression in this case and another model is likely more appropriate to describe the relationship between features and reserves in these regions. \n",
    "In any case, for the profit calculation, it makes sense to proceed with region 2 since the predictions for reserves is the most accurate here, but for thoroughness we may calculate for all the regions."
   ]
  },
  {
   "cell_type": "markdown",
   "metadata": {},
   "source": [
    "## Calculating minimum reserves needed to generate a profit\n",
    "200 oil wells need 100 million USD to develop (let us take this as baseline, minimum of 200 wells need to be developed).\n",
    "One barrel brings 4.5 USD of revenue and since product is in units of 1000s of barrels each unit of product generates 4.5*1000 or 4500 USD of revenue.\n",
    "Since tax, operational and other costs are not mentioned separately, we are assuming the 100 million USD for development includes all these costs.\n",
    "To break even, i.e., not generate any losses, the revenue will need to equal the costs of development, or 100 million USD from 200 wells."
   ]
  },
  {
   "cell_type": "code",
   "execution_count": 29,
   "metadata": {},
   "outputs": [
    {
     "name": "stdout",
     "output_type": "stream",
     "text": [
      "Reserves needed in 200 wells to break even is:22222.22 (1000 barrels)\n"
     ]
    }
   ],
   "source": [
    "#calculating product to break even\n",
    "res_breakeven = dev_cost/rev_per_thou\n",
    "print(f\"Reserves needed in 200 wells to break even is:{res_breakeven:.2f} (1000 barrels)\")"
   ]
  },
  {
   "cell_type": "code",
   "execution_count": 30,
   "metadata": {},
   "outputs": [
    {
     "name": "stdout",
     "output_type": "stream",
     "text": [
      "Total reserve in region 0 top 200 wells is:36966.75 (1000 barrels)\n",
      "Total reserve in region 0 top 200 wells is:27589.08 (1000 barrels)\n",
      "Total reserve in region 0 top 200 wells is:37910.30 (1000 barrels)\n"
     ]
    }
   ],
   "source": [
    "#calculating the top 200 wells in each region and their reserves\n",
    "goe0_top200 = geo_data_0['product'].sort_values(ascending=False).head(200).sum()\n",
    "print(f\"Total reserve in region 0 top 200 wells is:{goe0_top200:.2f} (1000 barrels)\")\n",
    "goe1_top200 = geo_data_1['product'].sort_values(ascending=False).head(200).sum()\n",
    "print(f\"Total reserve in region 0 top 200 wells is:{goe1_top200:.2f} (1000 barrels)\")\n",
    "goe2_top200 = geo_data_2['product'].sort_values(ascending=False).head(200).sum()\n",
    "print(f\"Total reserve in region 0 top 200 wells is:{goe2_top200:.2f} (1000 barrels)\")"
   ]
  },
  {
   "cell_type": "code",
   "execution_count": 31,
   "metadata": {},
   "outputs": [
    {
     "name": "stdout",
     "output_type": "stream",
     "text": [
      "Average reserve needed per well to break even is:111.11 (1000 barrels)\n"
     ]
    }
   ],
   "source": [
    "#calculating average reserves needed per well\n",
    "av_product = res_breakeven/200\n",
    "print(f\"Average reserve needed per well to break even is:{av_product:.2f} (1000 barrels)\")"
   ]
  },
  {
   "cell_type": "markdown",
   "metadata": {},
   "source": [
    "We see that none of the regions have the average reserves per well when averaged over the 100000 wells in each dataset to break even from the earlier mean and median calculation that was a part of the model function. The median suggests that the distribution may skew towards the lower end of reserves for all three regions.\n",
    "When we look at the top 200 wells in each region and their product, we see that all of them exceed what is needed to break even but these are the wells with the most reserves and likely not predictive of the overall trend for the region. Since the average reserves are below the average needed to break even, we are likely to incur a loss if we choose 200 wells at random.\n",
    "This points to the necessity of machine learning combined with bootstrapping to estimate profit distributions."
   ]
  },
  {
   "cell_type": "code",
   "execution_count": 32,
   "metadata": {},
   "outputs": [
    {
     "data": {
      "image/png": "[encoded data removed]",
      "text/plain": [
       "<Figure size 640x480 with 1 Axes>"
      ]
     },
     "metadata": {},
     "output_type": "display_data"
    }
   ],
   "source": [
    "#box plot of the reserve volume distribution in each regio with median side by side\n",
    "combined_dfs = pd.DataFrame({'geo0': geo_data_0['product'],\n",
    "                             'geo1': geo_data_1['product'],\n",
    "                             'geo2': geo_data_2['product']})\n",
    "sns.set_style('white')\n",
    "sns.boxplot(data=combined_dfs, palette='flare').set(title='Reserves per well by Region')\n",
    "plt.xlabel('Region')\n",
    "plt.ylabel('Reserves(1000s of barrels)')\n",
    "sns.despine()\n",
    "plt.show()"
   ]
  },
  {
   "cell_type": "markdown",
   "metadata": {},
   "source": [
    "## Profit calculation from the wells with the highest predicted reserves:\n",
    "We select the top 200 wells with highest predicted reserves and calculate profit from these wells."
   ]
  },
  {
   "cell_type": "code",
   "execution_count": 33,
   "metadata": {},
   "outputs": [
    {
     "name": "stdout",
     "output_type": "stream",
     "text": [
      "Total reserve predicted in region 0 top 200 wells is:31102.33 (1000 barrels)\n",
      "Total reserve predicted in region 1 top 200 wells is:27746.03 (1000 barrels)\n",
      "Total reserve predicted in region 2 top 200 wells is:29603.90 (1000 barrels)\n"
     ]
    }
   ],
   "source": [
    "#calculating the predicted reserves from the top 200 wells to enable comparison later if useful\n",
    "pgoe0_top200 = pred0.sort_values(ascending=False).head(200)\n",
    "pgeo_0_total_res = pgoe0_top200.sum()\n",
    "pgoe1_top200 = pred1.sort_values(ascending=False).head(200)\n",
    "pgeo_1_total_res = pgoe1_top200.sum()\n",
    "pgoe2_top200 = pred2.sort_values(ascending=False).head(200)\n",
    "pgeo_2_total_res = pgoe2_top200.sum()\n",
    "print(f\"Total reserve predicted in region 0 top 200 wells is:{pgeo_0_total_res:.2f} (1000 barrels)\")\n",
    "print(f\"Total reserve predicted in region 1 top 200 wells is:{pgeo_1_total_res:.2f} (1000 barrels)\")\n",
    "print(f\"Total reserve predicted in region 2 top 200 wells is:{pgeo_2_total_res:.2f} (1000 barrels)\")"
   ]
  },
  {
   "cell_type": "code",
   "execution_count": 35,
   "metadata": {},
   "outputs": [
    {
     "name": "stdout",
     "output_type": "stream",
     "text": [
      "Profit from region0:33.2083 million USD\n",
      "Profit from region1:24.1509 million USD\n",
      "Profit from region2:27.1035 million USD\n"
     ]
    }
   ],
   "source": [
    "#Function to calculate profit from top 200 predicted wells using actual values of reserves\n",
    "def profit(prediction, target, count):\n",
    "    top_200 = prediction.sort_values(ascending=False).index[:count]\n",
    "    targ_200 = target.loc[top_200]\n",
    "    rev_targ = targ_200.sum()*rev_per_thou\n",
    "    profit = (rev_targ-dev_cost)/mill #profit in millions of USD\n",
    "    return profit\n",
    "geo0_prof = profit(pred0,df0target_valid,well_num)\n",
    "geo1_prof = profit(pred1,df1target_valid,well_num)\n",
    "geo2_prof = profit(pred2,df2target_valid,well_num)\n",
    "print(f\"Profit from region0:{geo0_prof:.4f} million USD\")\n",
    "print(f\"Profit from region1:{geo1_prof:.4f} million USD\")\n",
    "print(f\"Profit from region2:{geo2_prof:.4f} million USD\")"
   ]
  },
  {
   "cell_type": "markdown",
   "metadata": {},
   "source": [
    "It appears that the region that generates the highest profit is region 20/geo_data_0 with a profit of 33.2083 million USD based on actual reserves in the top 200 wells predicted by the model. In 2nd place is the region 2/geo_data_2 with a net profit of approximately 27 million USD. This would support the development of region 3 since it appears to generate the hughest net profit."
   ]
  },
  {
   "cell_type": "markdown",
   "metadata": {},
   "source": [
    "## Bootstrapping to find the profit distribution\n"
   ]
  },
  {
   "cell_type": "code",
   "execution_count": 43,
   "metadata": {},
   "outputs": [
    {
     "name": "stdout",
     "output_type": "stream",
     "text": [
      "The 95% confidence interval for profits for region 0 lies between:0.13 and 12.31 million USD and the risk is 2.00 %\n",
      "The average profit for region 0 is:6.01 million USD and the median profit is 5.95 million USD\n",
      "The 95% confidence interval for profits for region 1 lies between:2.06 and 11.91 million USD and the risk is 0.10 %\n",
      "The average profit for region 1 is:6.64 million USD and the median profit is 6.52 million USD\n",
      "The 95% confidence interval for profits for region 2 lies between:0.02 and 12.46 million USD and the risk is 2.50 %\n",
      "The average profit for region 2 is:5.97 million USD and the median profit is 5.80 million USD\n"
     ]
    }
   ],
   "source": [
    "# bootstrapping function\n",
    "state = RandomState(12345)\n",
    "def confidence(target,prediction):\n",
    "    values = []\n",
    "    for i in range(1000): \n",
    "        subsample = target.sample(n=500, replace=True, random_state=state)\n",
    "        pred_sample = prediction.loc[subsample.index]\n",
    "        sample_profit = profit(pred_sample,subsample,well_num)\n",
    "        values.append(sample_profit)\n",
    "    values = pd.Series(values)\n",
    "    med = values.quantile(0.5)\n",
    "    average = values.mean()\n",
    "    lower = values.quantile(0.025)\n",
    "    upper = values.quantile(0.975)\n",
    "    risk = np.mean(values < 0)*100\n",
    "    return lower,upper,risk,med,average\n",
    "g0 = confidence(df0target_valid,pred0)\n",
    "g1 = confidence(df1target_valid,pred1)\n",
    "g2 = confidence(df2target_valid,pred2)\n",
    "print(f\"The 95% confidence interval for profits for region 0 lies between:{g0[0]:0.2f} and {g0[1]:0.2f} million USD and the risk is {g0[2]:0.2f} %\")\n",
    "print(f\"The average profit for region 0 is:{g0[4]:0.2f} million USD and the median profit is {g0[3]:0.2f} million USD\")\n",
    "print(f\"The 95% confidence interval for profits for region 1 lies between:{g1[0]:0.2f} and {g1[1]:0.2f} million USD and the risk is {g1[2]:0.2f} %\")\n",
    "print(f\"The average profit for region 1 is:{g1[4]:0.2f} million USD and the median profit is {g1[3]:0.2f} million USD\")\n",
    "print(f\"The 95% confidence interval for profits for region 2 lies between:{g2[0]:0.2f} and {g2[1]:0.2f} million USD and the risk is {g2[2]:0.2f} %\")\n",
    "print(f\"The average profit for region 2 is:{g2[4]:0.2f} million USD and the median profit is {g2[3]:0.2f} million USD\")"
   ]
  },
  {
   "cell_type": "markdown",
   "metadata": {},
   "source": [
    "The region 0/geo_data_0 has a risk less than 2.5% (real risk 2%) and the 95% confidence interval for profit lies between 0.13 million USD and 12.31 million USD. The region 1/geo_data_1 has the lowest risk at 0.1% and the 95% confidence interval for profit lies between 2.06 million USD and 11.91 million USD. Considering that the maximum profit is only 400,000 dollars less and considering the developing cost of 100 million, the very low risk of 0.1% and minimum profit (based on 95% confidence interval) of 2.6 million euro, I would recommend region 1 as a lower risk investment with assured returns. Region 0 satisfies the threshold of less than 2.5% risk but the lower predictability of the model and the lower limit of the confidence interval for profit which indicates a profit of less than a million for 100 million USD of investment, Region 1 appears to be the better option."
   ]
  },
  {
   "cell_type": "markdown",
   "metadata": {},
   "source": [
    "# Conclusion\n",
    "In this project, we developed models using oil well features from 3 regions to identify the region best suited for further development for the company OilyGiant.\n",
    "We had datasets from each region that were processed and then an preliminary data analysis was performed to understand the distribution of oil reserves in these regions.\n",
    "We then proceeded to train the models using linear regression. No other model was deemed sufficiently predictive and therefore only linear regression was used to train models for the three regions.\n",
    "\n",
    "The model for the region represented by geo_data_1 was the most accurate, while the other 2 had minimal predictive capacity. Adjusted R2 was calculated to see if the loss of accuracy was because the any of the features used for training was superfluous but that was not the case. It is likely that the relationship between the features and the reserves cannot be accurately described by linear regression. Or the features listed have minimum predictive power for the size of the reserve.\n",
    "\n",
    "We proceeded to calculate the profits based on the top 200 predicted wells, their actual reserves and the cost of development of 200 wells(100 million USD) and the revenue per 1000 barrels.\n",
    "We can see that there is a huge deviation between the top 200 wells and their actual reserves versus those predicted by the model when we sum up the reserves from the top 200 predicted reserves and the actual reserves in region 0 and region 2. This deviation is minimal in region 1, further confirming the power of the model for region 1. \n",
    "\n",
    "After profit calculation, region 0 appeared to generate the highest profit (33 million USD) followed by region 3(27 million USD). At this stage, it appears that it makes the most sense to choose between region 0 or 3 based on the top predicted reserves and their actual volumes.\n",
    "\n",
    "However, when the 95% confidence interval for profit was calculated for each region, region 0 and 1 emerged as the clear winners, both clearing the 2.5% risk hurdle and calculated average profits of 6 and 6.64 million USD respectively. However, when you look at the upper and lower limits of the confidence level, the region 0 only gives a 0.5 million gain at the upper limit and at the lower limit the 100 million investment clears around 100,000+ USD in profit while for region 2 the lower limit of the confidence interval for profit is 2 million USD. Also the risk is significantly lower at 0.1% compared to 2% for Region 0.\n",
    "Considering that the development of new oil wells is inherently risky and speculative, considering all the information available:\n",
    " - the predictive strength of the model\n",
    " - the magnitude of the risk\n",
    " - the confidence interval for estimated profit measured by boostrapping and the upper and lower limits of these limits\n",
    " - the cost of development and revenue per 1000 barrels\n",
    "I would recommend that the OilGiant company proceeds to develop region 1 or the region represented by the dataset geo_data_1.\n",
    "However, if we are hewing strictly to the specified project requests, region 0 is the region that should be developed since it clears the risk threshold of 2.5% and appears to generate the maximum profits according to the predictions of the model for that region."
   ]
  }
 ],
 "metadata": {
  "kernelspec": {
   "display_name": "My Environment",
   "language": "python",
   "name": "myenv"
  },
  "language_info": {
   "codemirror_mode": {
    "name": "ipython",
    "version": 3
   },
   "file_extension": ".py",
   "mimetype": "text/x-python",
   "name": "python",
   "nbconvert_exporter": "python",
   "pygments_lexer": "ipython3",
   "version": "3.9.22"
  }
 },
 "nbformat": 4,
 "nbformat_minor": 4
}
